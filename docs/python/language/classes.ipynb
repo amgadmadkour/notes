{
 "cells": [
  {
   "cell_type": "markdown",
   "id": "c4ff441a",
   "metadata": {},
   "source": [
    "# Classes"
   ]
  },
  {
   "cell_type": "markdown",
   "id": "54ceb1e6",
   "metadata": {},
   "source": [
    "A Python class is a blueprint for creating objects that bundle data (attributes) and behavior (methods). It defines a custom type by specifying the structure and functionality that its instances will have, supporting encapsulation and reuse. Classes enable object-oriented features like inheritance and polymorphism, allowing extension and customization of behavior."
   ]
  },
  {
   "cell_type": "markdown",
   "id": "2c3fcdc8",
   "metadata": {},
   "source": [
    "## Defining a class"
   ]
  },
  {
   "cell_type": "code",
   "execution_count": 9,
   "id": "bdd215a1",
   "metadata": {},
   "outputs": [
    {
     "name": "stdout",
     "output_type": "stream",
     "text": [
      " 2023 Volvo XC90\n",
      " 2023 Volvo XC60\n"
     ]
    }
   ],
   "source": [
    "class Car:\n",
    "    def __init__(self, make, model, year):\n",
    "        self.make = make\n",
    "        self.model = model\n",
    "        self.year = year\n",
    "    \n",
    "    def display(self):\n",
    "        print(f\" {self.year} {self.make} {self.model}\")\n",
    "\n",
    "if __name__ == '__main__':\n",
    "    car = Car(\"Volvo\", \"XC90\", \"2023\")\n",
    "    car.display()\n",
    "    car.model = \"XC60\"\n",
    "    car.display()"
   ]
  },
  {
   "cell_type": "markdown",
   "id": "a9c324ce",
   "metadata": {},
   "source": [
    "* **__init__()** : is the instance initializer that runs automatically after a new object is created typically used to set up initial state (attributes) for that instance.\n",
    "* **self** :  is the reference to the current object, passed as the first parameter to instance methods so you can access and modify the object attributes and call its other methods."
   ]
  }
 ],
 "metadata": {
  "kernelspec": {
   "display_name": "notes (3.12.0)",
   "language": "python",
   "name": "python3"
  },
  "language_info": {
   "codemirror_mode": {
    "name": "ipython",
    "version": 3
   },
   "file_extension": ".py",
   "mimetype": "text/x-python",
   "name": "python",
   "nbconvert_exporter": "python",
   "pygments_lexer": "ipython3",
   "version": "3.12.0"
  }
 },
 "nbformat": 4,
 "nbformat_minor": 5
}
