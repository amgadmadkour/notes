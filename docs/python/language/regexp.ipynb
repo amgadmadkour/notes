{
 "cells": [
  {
   "cell_type": "markdown",
   "id": "09c07f20",
   "metadata": {},
   "source": [
    "# Regular Expressions"
   ]
  },
  {
   "cell_type": "markdown",
   "id": "e732250f",
   "metadata": {
    "vscode": {
     "languageId": "markdown"
    }
   },
   "source": [
    "Python regular expressions (regex) are compact pattern descriptions written in a special mini-language that let you search, match, extract, and transform substrings in text. In Python the built-in re module provides functions to compile and apply these patterns, supporting character classes, quantifiers, grouping, and lookaround assertions for powerful text processing."
   ]
  },
  {
   "cell_type": "markdown",
   "id": "52df4454",
   "metadata": {},
   "source": [
    "## Module"
   ]
  },
  {
   "cell_type": "code",
   "execution_count": 1,
   "id": "48f23a79",
   "metadata": {
    "vscode": {
     "languageId": "markdown"
    }
   },
   "outputs": [],
   "source": [
    "import re"
   ]
  },
  {
   "cell_type": "markdown",
   "id": "d2a3c9d6",
   "metadata": {
    "vscode": {
     "languageId": "markdown"
    }
   },
   "source": [
    "## search()"
   ]
  },
  {
   "cell_type": "code",
   "execution_count": 12,
   "id": "f6ddbca4",
   "metadata": {},
   "outputs": [
    {
     "name": "stdout",
     "output_type": "stream",
     "text": [
      "Match Found\n"
     ]
    }
   ],
   "source": [
    "import re\n",
    "txt = \"Python is a programming language\"\n",
    "x = re.search(\"^Python.*language$\", txt)\n",
    "if x is not None:\n",
    "    print(\"Match Found\")\n",
    "else:\n",
    "    print(\"Match not found\")"
   ]
  },
  {
   "cell_type": "markdown",
   "id": "e0670547",
   "metadata": {},
   "source": [
    "## findall()"
   ]
  },
  {
   "cell_type": "code",
   "execution_count": 14,
   "id": "20477ea4",
   "metadata": {},
   "outputs": [
    {
     "name": "stdout",
     "output_type": "stream",
     "text": [
      "['i', 'i']\n"
     ]
    }
   ],
   "source": [
    "import re\n",
    "\n",
    "txt = \"Python is a programming language\"\n",
    "x = re.findall(\"i\", txt)\n",
    "print(x)"
   ]
  },
  {
   "cell_type": "markdown",
   "id": "7f8af177",
   "metadata": {},
   "source": [
    "## split()"
   ]
  },
  {
   "cell_type": "code",
   "execution_count": 25,
   "id": "03221334",
   "metadata": {},
   "outputs": [
    {
     "name": "stdout",
     "output_type": "stream",
     "text": [
      "['Python', 'is', 'a', 'programming', 'language']\n"
     ]
    }
   ],
   "source": [
    "import re\n",
    "\n",
    "txt = \"Python is a programming language\"\n",
    "x = re.split(r\"\\s\", txt)\n",
    "print(x)"
   ]
  },
  {
   "cell_type": "markdown",
   "id": "7f86aad6",
   "metadata": {},
   "source": [
    "## sub()"
   ]
  },
  {
   "cell_type": "code",
   "execution_count": 26,
   "id": "0e767b5e",
   "metadata": {},
   "outputs": [
    {
     "name": "stdout",
     "output_type": "stream",
     "text": [
      "PythonXisXaXprogrammingXlanguage\n"
     ]
    }
   ],
   "source": [
    "import re\n",
    "\n",
    "txt = \"Python is a programming language\"\n",
    "x = re.sub(r\"\\s\", \"X\", txt)\n",
    "print(x)"
   ]
  },
  {
   "cell_type": "markdown",
   "id": "92b1c021",
   "metadata": {},
   "source": [
    "## Match Object"
   ]
  },
  {
   "cell_type": "code",
   "execution_count": 41,
   "id": "33cee649",
   "metadata": {},
   "outputs": [
    {
     "name": "stdout",
     "output_type": "stream",
     "text": [
      "Python is #\n"
     ]
    }
   ],
   "source": [
    "import re\n",
    "\n",
    "txt = \"Python is #1 programming language\"\n",
    "x = re.search(r\"\\D+\", txt)\n",
    "if x is not None:\n",
    "    print(x.group())\n",
    "else:\n",
    "    print(\"No match found\")\n"
   ]
  }
 ],
 "metadata": {
  "kernelspec": {
   "display_name": "notes (3.12.0)",
   "language": "python",
   "name": "python3"
  },
  "language_info": {
   "codemirror_mode": {
    "name": "ipython",
    "version": 3
   },
   "file_extension": ".py",
   "mimetype": "text/x-python",
   "name": "python",
   "nbconvert_exporter": "python",
   "pygments_lexer": "ipython3",
   "version": "3.12.0"
  }
 },
 "nbformat": 4,
 "nbformat_minor": 5
}
