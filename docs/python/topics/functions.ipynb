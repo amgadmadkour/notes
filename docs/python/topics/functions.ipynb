{
 "cells": [
  {
   "cell_type": "markdown",
   "metadata": {},
   "source": [
    "# Functions"
   ]
  },
  {
   "cell_type": "markdown",
   "metadata": {},
   "source": [
    "A function is a rules that takes a set of inputs a returns a corresponding output."
   ]
  },
  {
   "cell_type": "markdown",
   "metadata": {},
   "source": [
    "## Definition"
   ]
  },
  {
   "cell_type": "code",
   "execution_count": 1,
   "metadata": {},
   "outputs": [],
   "source": [
    "def function_name(param):\n",
    "    \"\"\"\n",
    "    Docstring where the documentation of the function is present\n",
    "    \"\"\"\n",
    "    print(\"Output: \"+ str(param))\n",
    "    return param"
   ]
  },
  {
   "cell_type": "markdown",
   "metadata": {},
   "source": [
    "## Assignment"
   ]
  },
  {
   "cell_type": "code",
   "execution_count": 2,
   "metadata": {},
   "outputs": [
    {
     "name": "stdout",
     "output_type": "stream",
     "text": [
      "Output: 10\n"
     ]
    }
   ],
   "source": [
    "function_copy = function_name\n",
    "result = function_copy(10)"
   ]
  },
  {
   "cell_type": "markdown",
   "metadata": {},
   "source": [
    "## Lambda Functions"
   ]
  },
  {
   "cell_type": "markdown",
   "metadata": {},
   "source": [
    "You can assign an annonymous (i.e. lambda) function to a variable"
   ]
  },
  {
   "cell_type": "code",
   "execution_count": 3,
   "metadata": {},
   "outputs": [
    {
     "name": "stdout",
     "output_type": "stream",
     "text": [
      "4\n"
     ]
    }
   ],
   "source": [
    "lambda_output = lambda x: x * 2\n",
    "output = lambda_output(2)\n",
    "print(output)"
   ]
  },
  {
   "cell_type": "markdown",
   "metadata": {},
   "source": [
    "You can also create an lambda function that is passed as a parameter to another function"
   ]
  },
  {
   "cell_type": "code",
   "execution_count": 4,
   "metadata": {},
   "outputs": [
    {
     "name": "stdout",
     "output_type": "stream",
     "text": [
      "2\n"
     ]
    }
   ],
   "source": [
    "def lambda_function(f):\n",
    "    return f(1)\n",
    "\n",
    "lambda_output = lambda_function(lambda x: x*2)\n",
    "print(lambda_output)"
   ]
  },
  {
   "cell_type": "markdown",
   "metadata": {},
   "source": [
    "## Default Parameters"
   ]
  },
  {
   "cell_type": "code",
   "execution_count": 5,
   "metadata": {},
   "outputs": [
    {
     "name": "stdout",
     "output_type": "stream",
     "text": [
      "Hi World\n",
      "Hi Amgad\n",
      "Hi Amgad\n"
     ]
    }
   ],
   "source": [
    "def sample_function(first=\"Hello\", second=\"World\"):\n",
    "    return first + \" \" + second\n",
    "\n",
    "print(sample_function(\"Hi\"))\n",
    "print(sample_function(\"Hi\", \"Amgad\"))\n",
    "print(sample_function(first=\"Hi\", second=\"Amgad\"))"
   ]
  }
 ],
 "metadata": {
  "interpreter": {
   "hash": "83626c217e3508af500925ca9309c3fbf84fe939dd42f804f75f126621c6889d"
  },
  "kernelspec": {
   "display_name": "Python 3.8.10 ('base')",
   "language": "python",
   "name": "python3"
  },
  "language_info": {
   "codemirror_mode": {
    "name": "ipython",
    "version": 3
   },
   "file_extension": ".py",
   "mimetype": "text/x-python",
   "name": "python",
   "nbconvert_exporter": "python",
   "pygments_lexer": "ipython3",
   "version": "3.8.10"
  },
  "orig_nbformat": 4
 },
 "nbformat": 4,
 "nbformat_minor": 2
}
